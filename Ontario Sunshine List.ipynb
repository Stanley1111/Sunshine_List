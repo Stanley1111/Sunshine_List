{
 "cells": [
  {
   "cell_type": "code",
   "execution_count": 1,
   "metadata": {
    "collapsed": true
   },
   "outputs": [],
   "source": [
    "import pandas as pd\n",
    "%matplotlib inline "
   ]
  },
  {
   "cell_type": "code",
   "execution_count": 2,
   "metadata": {
    "collapsed": true
   },
   "outputs": [],
   "source": [
    "ss2012 = pd.read_csv('SunShine List/sunshine 2012.csv')\n",
    "ss2013 = pd.read_csv('SunShine List/sunshine 2013.csv')\n",
    "ss2014 = pd.read_csv('SunShine List/sunshine 2014.csv')\n",
    "ss2015 = pd.read_csv('SunShine List/sunshine 2015.csv')"
   ]
  },
  {
   "cell_type": "markdown",
   "metadata": {},
   "source": [
    "## Preview Data"
   ]
  },
  {
   "cell_type": "code",
   "execution_count": 3,
   "metadata": {},
   "outputs": [
    {
     "data": {
      "text/html": [
       "<div>\n",
       "<style>\n",
       "    .dataframe thead tr:only-child th {\n",
       "        text-align: right;\n",
       "    }\n",
       "\n",
       "    .dataframe thead th {\n",
       "        text-align: left;\n",
       "    }\n",
       "\n",
       "    .dataframe tbody tr th {\n",
       "        vertical-align: top;\n",
       "    }\n",
       "</style>\n",
       "<table border=\"1\" class=\"dataframe\">\n",
       "  <thead>\n",
       "    <tr style=\"text-align: right;\">\n",
       "      <th></th>\n",
       "      <th>Sector</th>\n",
       "      <th>Last Name</th>\n",
       "      <th>First Name</th>\n",
       "      <th>Salary Paid</th>\n",
       "      <th>Taxable Benefits</th>\n",
       "      <th>Employer</th>\n",
       "      <th>Job Title</th>\n",
       "      <th>Calendar Year</th>\n",
       "    </tr>\n",
       "  </thead>\n",
       "  <tbody>\n",
       "    <tr>\n",
       "      <th>0</th>\n",
       "      <td>Colleges</td>\n",
       "      <td>ABBAS</td>\n",
       "      <td>SADIQ</td>\n",
       "      <td>102185.98</td>\n",
       "      <td>119.88</td>\n",
       "      <td>Algonquin College</td>\n",
       "      <td>Professor</td>\n",
       "      <td>2012</td>\n",
       "    </tr>\n",
       "    <tr>\n",
       "      <th>1</th>\n",
       "      <td>Colleges</td>\n",
       "      <td>AGATE</td>\n",
       "      <td>JEFFERY MICHAEL</td>\n",
       "      <td>104656.60</td>\n",
       "      <td>335.15</td>\n",
       "      <td>Algonquin College</td>\n",
       "      <td>Manager, Counselling and Testing Services</td>\n",
       "      <td>2012</td>\n",
       "    </tr>\n",
       "  </tbody>\n",
       "</table>\n",
       "</div>"
      ],
      "text/plain": [
       "     Sector Last Name       First Name  Salary Paid  Taxable Benefits  \\\n",
       "0  Colleges     ABBAS            SADIQ    102185.98            119.88   \n",
       "1  Colleges     AGATE  JEFFERY MICHAEL    104656.60            335.15   \n",
       "\n",
       "            Employer                                  Job Title  Calendar Year  \n",
       "0  Algonquin College                                  Professor           2012  \n",
       "1  Algonquin College  Manager, Counselling and Testing Services           2012  "
      ]
     },
     "execution_count": 3,
     "metadata": {},
     "output_type": "execute_result"
    }
   ],
   "source": [
    "ss2012.head(2)"
   ]
  },
  {
   "cell_type": "code",
   "execution_count": 4,
   "metadata": {},
   "outputs": [
    {
     "data": {
      "text/html": [
       "<div>\n",
       "<style>\n",
       "    .dataframe thead tr:only-child th {\n",
       "        text-align: right;\n",
       "    }\n",
       "\n",
       "    .dataframe thead th {\n",
       "        text-align: left;\n",
       "    }\n",
       "\n",
       "    .dataframe tbody tr th {\n",
       "        vertical-align: top;\n",
       "    }\n",
       "</style>\n",
       "<table border=\"1\" class=\"dataframe\">\n",
       "  <thead>\n",
       "    <tr style=\"text-align: right;\">\n",
       "      <th></th>\n",
       "      <th>Sector</th>\n",
       "      <th>Last Name</th>\n",
       "      <th>First Name</th>\n",
       "      <th>Salary Paid</th>\n",
       "      <th>Taxable Benefits</th>\n",
       "      <th>Employer</th>\n",
       "      <th>Job Title</th>\n",
       "      <th>Calendar Year</th>\n",
       "    </tr>\n",
       "  </thead>\n",
       "  <tbody>\n",
       "    <tr>\n",
       "      <th>0</th>\n",
       "      <td>Colleges</td>\n",
       "      <td>ABBAS</td>\n",
       "      <td>SADIQ</td>\n",
       "      <td>102185.98</td>\n",
       "      <td>114.48</td>\n",
       "      <td>Algonquin College</td>\n",
       "      <td>Professor</td>\n",
       "      <td>2013</td>\n",
       "    </tr>\n",
       "    <tr>\n",
       "      <th>1</th>\n",
       "      <td>Colleges</td>\n",
       "      <td>AGATE</td>\n",
       "      <td>JEFFERY MICHAEL</td>\n",
       "      <td>108564.60</td>\n",
       "      <td>371.78</td>\n",
       "      <td>Algonquin College</td>\n",
       "      <td>Manager, Counselling and Testing Services</td>\n",
       "      <td>2013</td>\n",
       "    </tr>\n",
       "  </tbody>\n",
       "</table>\n",
       "</div>"
      ],
      "text/plain": [
       "     Sector Last Name       First Name  Salary Paid  Taxable Benefits  \\\n",
       "0  Colleges     ABBAS            SADIQ    102185.98            114.48   \n",
       "1  Colleges     AGATE  JEFFERY MICHAEL    108564.60            371.78   \n",
       "\n",
       "            Employer                                  Job Title  Calendar Year  \n",
       "0  Algonquin College                                  Professor           2013  \n",
       "1  Algonquin College  Manager, Counselling and Testing Services           2013  "
      ]
     },
     "execution_count": 4,
     "metadata": {},
     "output_type": "execute_result"
    }
   ],
   "source": [
    "ss2013.head(2)"
   ]
  },
  {
   "cell_type": "code",
   "execution_count": 5,
   "metadata": {},
   "outputs": [
    {
     "data": {
      "text/html": [
       "<div>\n",
       "<style>\n",
       "    .dataframe thead tr:only-child th {\n",
       "        text-align: right;\n",
       "    }\n",
       "\n",
       "    .dataframe thead th {\n",
       "        text-align: left;\n",
       "    }\n",
       "\n",
       "    .dataframe tbody tr th {\n",
       "        vertical-align: top;\n",
       "    }\n",
       "</style>\n",
       "<table border=\"1\" class=\"dataframe\">\n",
       "  <thead>\n",
       "    <tr style=\"text-align: right;\">\n",
       "      <th></th>\n",
       "      <th>Sector</th>\n",
       "      <th>Last name</th>\n",
       "      <th>First Name</th>\n",
       "      <th>Salary Paid</th>\n",
       "      <th>Taxable Benefits</th>\n",
       "      <th>Employer</th>\n",
       "      <th>Job title</th>\n",
       "      <th>Calendar year</th>\n",
       "    </tr>\n",
       "  </thead>\n",
       "  <tbody>\n",
       "    <tr>\n",
       "      <th>0</th>\n",
       "      <td>Government of Ontario - Ministries</td>\n",
       "      <td>Almond</td>\n",
       "      <td>Margot</td>\n",
       "      <td>$123,153.63</td>\n",
       "      <td>$204.96</td>\n",
       "      <td>Aboriginal Affairs</td>\n",
       "      <td>Director, Corporate Management / Directrice, g...</td>\n",
       "      <td>2014</td>\n",
       "    </tr>\n",
       "    <tr>\n",
       "      <th>1</th>\n",
       "      <td>Government of Ontario - Ministries</td>\n",
       "      <td>Aniol</td>\n",
       "      <td>Richard</td>\n",
       "      <td>$102,860.59</td>\n",
       "      <td>$173.98</td>\n",
       "      <td>Aboriginal Affairs</td>\n",
       "      <td>Senior Negotiator / Négociateur principal</td>\n",
       "      <td>2014</td>\n",
       "    </tr>\n",
       "  </tbody>\n",
       "</table>\n",
       "</div>"
      ],
      "text/plain": [
       "                               Sector Last name First Name  Salary Paid  \\\n",
       "0  Government of Ontario - Ministries    Almond     Margot  $123,153.63   \n",
       "1  Government of Ontario - Ministries     Aniol    Richard  $102,860.59   \n",
       "\n",
       "  Taxable Benefits            Employer  \\\n",
       "0          $204.96  Aboriginal Affairs   \n",
       "1          $173.98  Aboriginal Affairs   \n",
       "\n",
       "                                           Job title  Calendar year  \n",
       "0  Director, Corporate Management / Directrice, g...           2014  \n",
       "1          Senior Negotiator / Négociateur principal           2014  "
      ]
     },
     "execution_count": 5,
     "metadata": {},
     "output_type": "execute_result"
    }
   ],
   "source": [
    "ss2014.head(2)"
   ]
  },
  {
   "cell_type": "code",
   "execution_count": 6,
   "metadata": {},
   "outputs": [
    {
     "data": {
      "text/html": [
       "<div>\n",
       "<style>\n",
       "    .dataframe thead tr:only-child th {\n",
       "        text-align: right;\n",
       "    }\n",
       "\n",
       "    .dataframe thead th {\n",
       "        text-align: left;\n",
       "    }\n",
       "\n",
       "    .dataframe tbody tr th {\n",
       "        vertical-align: top;\n",
       "    }\n",
       "</style>\n",
       "<table border=\"1\" class=\"dataframe\">\n",
       "  <thead>\n",
       "    <tr style=\"text-align: right;\">\n",
       "      <th></th>\n",
       "      <th>Sector</th>\n",
       "      <th>Last Name</th>\n",
       "      <th>First Name</th>\n",
       "      <th>Salary Paid</th>\n",
       "      <th>Taxable Benefits</th>\n",
       "      <th>Employer</th>\n",
       "      <th>Job Title</th>\n",
       "      <th>Calendar Year</th>\n",
       "    </tr>\n",
       "  </thead>\n",
       "  <tbody>\n",
       "    <tr>\n",
       "      <th>0</th>\n",
       "      <td>Colleges</td>\n",
       "      <td>Abbas</td>\n",
       "      <td>Sadiq</td>\n",
       "      <td>$105,595.39</td>\n",
       "      <td>$84.24</td>\n",
       "      <td>Algonquin College</td>\n",
       "      <td>Professor</td>\n",
       "      <td>2016</td>\n",
       "    </tr>\n",
       "    <tr>\n",
       "      <th>1</th>\n",
       "      <td>Colleges</td>\n",
       "      <td>Abboud</td>\n",
       "      <td>Nadim</td>\n",
       "      <td>$108,393.10</td>\n",
       "      <td>$126.96</td>\n",
       "      <td>Algonquin College</td>\n",
       "      <td>Professor</td>\n",
       "      <td>2016</td>\n",
       "    </tr>\n",
       "    <tr>\n",
       "      <th>2</th>\n",
       "      <td>Colleges</td>\n",
       "      <td>Agate</td>\n",
       "      <td>Jeffery M.</td>\n",
       "      <td>$125,779.64</td>\n",
       "      <td>$325.58</td>\n",
       "      <td>Algonquin College</td>\n",
       "      <td>Associate Director, Student Support Services</td>\n",
       "      <td>2016</td>\n",
       "    </tr>\n",
       "    <tr>\n",
       "      <th>3</th>\n",
       "      <td>Colleges</td>\n",
       "      <td>Al-Azzawi</td>\n",
       "      <td>Abdul</td>\n",
       "      <td>$105,595.41</td>\n",
       "      <td>$84.24</td>\n",
       "      <td>Algonquin College</td>\n",
       "      <td>Professor</td>\n",
       "      <td>2016</td>\n",
       "    </tr>\n",
       "    <tr>\n",
       "      <th>4</th>\n",
       "      <td>Colleges</td>\n",
       "      <td>Alexander</td>\n",
       "      <td>Doug</td>\n",
       "      <td>$105,595.41</td>\n",
       "      <td>$126.96</td>\n",
       "      <td>Algonquin College</td>\n",
       "      <td>Professor</td>\n",
       "      <td>2016</td>\n",
       "    </tr>\n",
       "  </tbody>\n",
       "</table>\n",
       "</div>"
      ],
      "text/plain": [
       "     Sector  Last Name  First Name  Salary Paid Taxable Benefits  \\\n",
       "0  Colleges      Abbas       Sadiq  $105,595.39           $84.24   \n",
       "1  Colleges     Abboud       Nadim  $108,393.10          $126.96   \n",
       "2  Colleges      Agate  Jeffery M.  $125,779.64          $325.58   \n",
       "3  Colleges  Al-Azzawi       Abdul  $105,595.41           $84.24   \n",
       "4  Colleges  Alexander        Doug  $105,595.41          $126.96   \n",
       "\n",
       "            Employer                                     Job Title  \\\n",
       "0  Algonquin College                                     Professor   \n",
       "1  Algonquin College                                     Professor   \n",
       "2  Algonquin College  Associate Director, Student Support Services   \n",
       "3  Algonquin College                                     Professor   \n",
       "4  Algonquin College                                     Professor   \n",
       "\n",
       "   Calendar Year  \n",
       "0           2016  \n",
       "1           2016  \n",
       "2           2016  \n",
       "3           2016  \n",
       "4           2016  "
      ]
     },
     "execution_count": 6,
     "metadata": {},
     "output_type": "execute_result"
    }
   ],
   "source": [
    "ss2015.head(2)\n",
    "ss2015[\"Calendar Year\"] = 2016 # Cleaning data as secondary information was placed in Calendar Year.\n",
    "ss2015.head()"
   ]
  },
  {
   "cell_type": "markdown",
   "metadata": {},
   "source": [
    "## Edit ss2014 to match column names"
   ]
  },
  {
   "cell_type": "code",
   "execution_count": 7,
   "metadata": {},
   "outputs": [
    {
     "data": {
      "text/html": [
       "<div>\n",
       "<style>\n",
       "    .dataframe thead tr:only-child th {\n",
       "        text-align: right;\n",
       "    }\n",
       "\n",
       "    .dataframe thead th {\n",
       "        text-align: left;\n",
       "    }\n",
       "\n",
       "    .dataframe tbody tr th {\n",
       "        vertical-align: top;\n",
       "    }\n",
       "</style>\n",
       "<table border=\"1\" class=\"dataframe\">\n",
       "  <thead>\n",
       "    <tr style=\"text-align: right;\">\n",
       "      <th></th>\n",
       "      <th>Sector</th>\n",
       "      <th>Last Name</th>\n",
       "      <th>First Name</th>\n",
       "      <th>Salary Paid</th>\n",
       "      <th>Taxable Benefits</th>\n",
       "      <th>Employer</th>\n",
       "      <th>Job Title</th>\n",
       "      <th>Calendar Year</th>\n",
       "    </tr>\n",
       "  </thead>\n",
       "  <tbody>\n",
       "    <tr>\n",
       "      <th>0</th>\n",
       "      <td>Government of Ontario - Ministries</td>\n",
       "      <td>Almond</td>\n",
       "      <td>Margot</td>\n",
       "      <td>$123,153.63</td>\n",
       "      <td>$204.96</td>\n",
       "      <td>Aboriginal Affairs</td>\n",
       "      <td>Director, Corporate Management / Directrice, g...</td>\n",
       "      <td>2014</td>\n",
       "    </tr>\n",
       "    <tr>\n",
       "      <th>1</th>\n",
       "      <td>Government of Ontario - Ministries</td>\n",
       "      <td>Aniol</td>\n",
       "      <td>Richard</td>\n",
       "      <td>$102,860.59</td>\n",
       "      <td>$173.98</td>\n",
       "      <td>Aboriginal Affairs</td>\n",
       "      <td>Senior Negotiator / Négociateur principal</td>\n",
       "      <td>2014</td>\n",
       "    </tr>\n",
       "  </tbody>\n",
       "</table>\n",
       "</div>"
      ],
      "text/plain": [
       "                               Sector Last Name First Name  Salary Paid  \\\n",
       "0  Government of Ontario - Ministries    Almond     Margot  $123,153.63   \n",
       "1  Government of Ontario - Ministries     Aniol    Richard  $102,860.59   \n",
       "\n",
       "  Taxable Benefits            Employer  \\\n",
       "0          $204.96  Aboriginal Affairs   \n",
       "1          $173.98  Aboriginal Affairs   \n",
       "\n",
       "                                           Job Title  Calendar Year  \n",
       "0  Director, Corporate Management / Directrice, g...           2014  \n",
       "1          Senior Negotiator / Négociateur principal           2014  "
      ]
     },
     "execution_count": 7,
     "metadata": {},
     "output_type": "execute_result"
    }
   ],
   "source": [
    "ss2014.rename(columns = {\"Job title\":\"Job Title\", \"Calendar year\":\"Calendar Year\", \"Last name\":\"Last Name\"}, inplace=True)\n",
    "ss2014.head(2)"
   ]
  },
  {
   "cell_type": "markdown",
   "metadata": {},
   "source": [
    "## Join dataframes together"
   ]
  },
  {
   "cell_type": "code",
   "execution_count": 8,
   "metadata": {},
   "outputs": [
    {
     "data": {
      "text/html": [
       "<div>\n",
       "<style>\n",
       "    .dataframe thead tr:only-child th {\n",
       "        text-align: right;\n",
       "    }\n",
       "\n",
       "    .dataframe thead th {\n",
       "        text-align: left;\n",
       "    }\n",
       "\n",
       "    .dataframe tbody tr th {\n",
       "        vertical-align: top;\n",
       "    }\n",
       "</style>\n",
       "<table border=\"1\" class=\"dataframe\">\n",
       "  <thead>\n",
       "    <tr style=\"text-align: right;\">\n",
       "      <th></th>\n",
       "      <th>Sector</th>\n",
       "      <th>Last Name</th>\n",
       "      <th>First Name</th>\n",
       "      <th>Salary Paid</th>\n",
       "      <th>Taxable Benefits</th>\n",
       "      <th>Employer</th>\n",
       "      <th>Job Title</th>\n",
       "      <th>Calendar Year</th>\n",
       "    </tr>\n",
       "  </thead>\n",
       "  <tbody>\n",
       "    <tr>\n",
       "      <th>0</th>\n",
       "      <td>Colleges</td>\n",
       "      <td>ABBAS</td>\n",
       "      <td>SADIQ</td>\n",
       "      <td>102186</td>\n",
       "      <td>119.88</td>\n",
       "      <td>Algonquin College</td>\n",
       "      <td>Professor</td>\n",
       "      <td>2012</td>\n",
       "    </tr>\n",
       "    <tr>\n",
       "      <th>1</th>\n",
       "      <td>Colleges</td>\n",
       "      <td>AGATE</td>\n",
       "      <td>JEFFERY MICHAEL</td>\n",
       "      <td>104657</td>\n",
       "      <td>335.15</td>\n",
       "      <td>Algonquin College</td>\n",
       "      <td>Manager, Counselling and Testing Services</td>\n",
       "      <td>2012</td>\n",
       "    </tr>\n",
       "    <tr>\n",
       "      <th>2</th>\n",
       "      <td>Colleges</td>\n",
       "      <td>AL-AZZAWI</td>\n",
       "      <td>ABDUL</td>\n",
       "      <td>103133</td>\n",
       "      <td>185.88</td>\n",
       "      <td>Algonquin College</td>\n",
       "      <td>Professor</td>\n",
       "      <td>2012</td>\n",
       "    </tr>\n",
       "  </tbody>\n",
       "</table>\n",
       "</div>"
      ],
      "text/plain": [
       "     Sector  Last Name       First Name Salary Paid Taxable Benefits  \\\n",
       "0  Colleges      ABBAS            SADIQ      102186           119.88   \n",
       "1  Colleges      AGATE  JEFFERY MICHAEL      104657           335.15   \n",
       "2  Colleges  AL-AZZAWI            ABDUL      103133           185.88   \n",
       "\n",
       "            Employer                                  Job Title  Calendar Year  \n",
       "0  Algonquin College                                  Professor           2012  \n",
       "1  Algonquin College  Manager, Counselling and Testing Services           2012  \n",
       "2  Algonquin College                                  Professor           2012  "
      ]
     },
     "execution_count": 8,
     "metadata": {},
     "output_type": "execute_result"
    }
   ],
   "source": [
    "sunshine = pd.concat([ss2012,ss2013,ss2014,ss2015], ignore_index=True)\n",
    "sunshine.head(3)"
   ]
  },
  {
   "cell_type": "markdown",
   "metadata": {},
   "source": [
    "## Clean Data"
   ]
  },
  {
   "cell_type": "code",
   "execution_count": 9,
   "metadata": {},
   "outputs": [
    {
     "data": {
      "text/html": [
       "<div>\n",
       "<style>\n",
       "    .dataframe thead tr:only-child th {\n",
       "        text-align: right;\n",
       "    }\n",
       "\n",
       "    .dataframe thead th {\n",
       "        text-align: left;\n",
       "    }\n",
       "\n",
       "    .dataframe tbody tr th {\n",
       "        vertical-align: top;\n",
       "    }\n",
       "</style>\n",
       "<table border=\"1\" class=\"dataframe\">\n",
       "  <thead>\n",
       "    <tr style=\"text-align: right;\">\n",
       "      <th></th>\n",
       "      <th>Sector</th>\n",
       "      <th>Last Name</th>\n",
       "      <th>First Name</th>\n",
       "      <th>Salary Paid</th>\n",
       "      <th>Taxable Benefits</th>\n",
       "      <th>Employer</th>\n",
       "      <th>Job Title</th>\n",
       "      <th>Calendar Year</th>\n",
       "    </tr>\n",
       "  </thead>\n",
       "  <tbody>\n",
       "    <tr>\n",
       "      <th>0</th>\n",
       "      <td>Colleges</td>\n",
       "      <td>ABBAS</td>\n",
       "      <td>SADIQ</td>\n",
       "      <td>102185.98</td>\n",
       "      <td>119.88</td>\n",
       "      <td>Algonquin College</td>\n",
       "      <td>Professor</td>\n",
       "      <td>2012</td>\n",
       "    </tr>\n",
       "    <tr>\n",
       "      <th>1</th>\n",
       "      <td>Colleges</td>\n",
       "      <td>AGATE</td>\n",
       "      <td>JEFFERY MICHAEL</td>\n",
       "      <td>104656.60</td>\n",
       "      <td>335.15</td>\n",
       "      <td>Algonquin College</td>\n",
       "      <td>Manager, Counselling and Testing Services</td>\n",
       "      <td>2012</td>\n",
       "    </tr>\n",
       "    <tr>\n",
       "      <th>2</th>\n",
       "      <td>Colleges</td>\n",
       "      <td>AL-AZZAWI</td>\n",
       "      <td>ABDUL</td>\n",
       "      <td>103133.47</td>\n",
       "      <td>185.88</td>\n",
       "      <td>Algonquin College</td>\n",
       "      <td>Professor</td>\n",
       "      <td>2012</td>\n",
       "    </tr>\n",
       "    <tr>\n",
       "      <th>3</th>\n",
       "      <td>Colleges</td>\n",
       "      <td>ALLAN</td>\n",
       "      <td>GAIL</td>\n",
       "      <td>104893.10</td>\n",
       "      <td>185.88</td>\n",
       "      <td>Algonquin College</td>\n",
       "      <td>Professor</td>\n",
       "      <td>2012</td>\n",
       "    </tr>\n",
       "    <tr>\n",
       "      <th>4</th>\n",
       "      <td>Colleges</td>\n",
       "      <td>ALLEN</td>\n",
       "      <td>IAN D.</td>\n",
       "      <td>104140.79</td>\n",
       "      <td>119.88</td>\n",
       "      <td>Algonquin College</td>\n",
       "      <td>Professor</td>\n",
       "      <td>2012</td>\n",
       "    </tr>\n",
       "  </tbody>\n",
       "</table>\n",
       "</div>"
      ],
      "text/plain": [
       "     Sector  Last Name       First Name  Salary Paid Taxable Benefits  \\\n",
       "0  Colleges      ABBAS            SADIQ    102185.98           119.88   \n",
       "1  Colleges      AGATE  JEFFERY MICHAEL    104656.60           335.15   \n",
       "2  Colleges  AL-AZZAWI            ABDUL    103133.47           185.88   \n",
       "3  Colleges      ALLAN             GAIL    104893.10           185.88   \n",
       "4  Colleges      ALLEN           IAN D.    104140.79           119.88   \n",
       "\n",
       "            Employer                                  Job Title  Calendar Year  \n",
       "0  Algonquin College                                  Professor           2012  \n",
       "1  Algonquin College  Manager, Counselling and Testing Services           2012  \n",
       "2  Algonquin College                                  Professor           2012  \n",
       "3  Algonquin College                                  Professor           2012  \n",
       "4  Algonquin College                                  Professor           2012  "
      ]
     },
     "execution_count": 9,
     "metadata": {},
     "output_type": "execute_result"
    }
   ],
   "source": [
    "# Remove the '$' from salaries\n",
    "sunshine[\"Salary Paid\"] = sunshine[\"Salary Paid\"].astype(str).str.replace(\"$\",\"\") \n",
    "#Not all salaries are type float - therefore convert all to str to manipulate\n",
    "# Remove ','\n",
    "sunshine[\"Salary Paid\"] = sunshine[\"Salary Paid\"].str.replace(\",\",\"\")\n",
    "sunshine[\"Salary Paid\"] = sunshine[\"Salary Paid\"].astype(float)\n",
    "sunshine.head()"
   ]
  },
  {
   "cell_type": "code",
   "execution_count": 10,
   "metadata": {},
   "outputs": [
    {
     "data": {
      "text/html": [
       "<div>\n",
       "<style>\n",
       "    .dataframe thead tr:only-child th {\n",
       "        text-align: right;\n",
       "    }\n",
       "\n",
       "    .dataframe thead th {\n",
       "        text-align: left;\n",
       "    }\n",
       "\n",
       "    .dataframe tbody tr th {\n",
       "        vertical-align: top;\n",
       "    }\n",
       "</style>\n",
       "<table border=\"1\" class=\"dataframe\">\n",
       "  <thead>\n",
       "    <tr style=\"text-align: right;\">\n",
       "      <th></th>\n",
       "      <th>Sector</th>\n",
       "      <th>Last Name</th>\n",
       "      <th>First Name</th>\n",
       "      <th>Salary Paid</th>\n",
       "      <th>Taxable Benefits</th>\n",
       "      <th>Employer</th>\n",
       "      <th>Job Title</th>\n",
       "      <th>Calendar Year</th>\n",
       "    </tr>\n",
       "  </thead>\n",
       "  <tbody>\n",
       "    <tr>\n",
       "      <th>0</th>\n",
       "      <td>Colleges</td>\n",
       "      <td>ABBAS</td>\n",
       "      <td>SADIQ</td>\n",
       "      <td>102185.98</td>\n",
       "      <td>119.88</td>\n",
       "      <td>Algonquin College</td>\n",
       "      <td>Professor</td>\n",
       "      <td>2012</td>\n",
       "    </tr>\n",
       "    <tr>\n",
       "      <th>1</th>\n",
       "      <td>Colleges</td>\n",
       "      <td>AGATE</td>\n",
       "      <td>JEFFERY MICHAEL</td>\n",
       "      <td>104656.60</td>\n",
       "      <td>335.15</td>\n",
       "      <td>Algonquin College</td>\n",
       "      <td>Manager, Counselling and Testing Services</td>\n",
       "      <td>2012</td>\n",
       "    </tr>\n",
       "    <tr>\n",
       "      <th>2</th>\n",
       "      <td>Colleges</td>\n",
       "      <td>AL-AZZAWI</td>\n",
       "      <td>ABDUL</td>\n",
       "      <td>103133.47</td>\n",
       "      <td>185.88</td>\n",
       "      <td>Algonquin College</td>\n",
       "      <td>Professor</td>\n",
       "      <td>2012</td>\n",
       "    </tr>\n",
       "    <tr>\n",
       "      <th>3</th>\n",
       "      <td>Colleges</td>\n",
       "      <td>ALLAN</td>\n",
       "      <td>GAIL</td>\n",
       "      <td>104893.10</td>\n",
       "      <td>185.88</td>\n",
       "      <td>Algonquin College</td>\n",
       "      <td>Professor</td>\n",
       "      <td>2012</td>\n",
       "    </tr>\n",
       "    <tr>\n",
       "      <th>4</th>\n",
       "      <td>Colleges</td>\n",
       "      <td>ALLEN</td>\n",
       "      <td>IAN D.</td>\n",
       "      <td>104140.79</td>\n",
       "      <td>119.88</td>\n",
       "      <td>Algonquin College</td>\n",
       "      <td>Professor</td>\n",
       "      <td>2012</td>\n",
       "    </tr>\n",
       "  </tbody>\n",
       "</table>\n",
       "</div>"
      ],
      "text/plain": [
       "     Sector  Last Name       First Name  Salary Paid  Taxable Benefits  \\\n",
       "0  Colleges      ABBAS            SADIQ    102185.98            119.88   \n",
       "1  Colleges      AGATE  JEFFERY MICHAEL    104656.60            335.15   \n",
       "2  Colleges  AL-AZZAWI            ABDUL    103133.47            185.88   \n",
       "3  Colleges      ALLAN             GAIL    104893.10            185.88   \n",
       "4  Colleges      ALLEN           IAN D.    104140.79            119.88   \n",
       "\n",
       "            Employer                                  Job Title  Calendar Year  \n",
       "0  Algonquin College                                  Professor           2012  \n",
       "1  Algonquin College  Manager, Counselling and Testing Services           2012  \n",
       "2  Algonquin College                                  Professor           2012  \n",
       "3  Algonquin College                                  Professor           2012  \n",
       "4  Algonquin College                                  Professor           2012  "
      ]
     },
     "execution_count": 10,
     "metadata": {},
     "output_type": "execute_result"
    }
   ],
   "source": [
    "# Remove \"$\" and \",\" from benefits\n",
    "sunshine[\"Taxable Benefits\"] = sunshine[\"Taxable Benefits\"].astype(str).str.replace(\"$\",\"\")\n",
    "sunshine[\"Taxable Benefits\"] = sunshine[\"Taxable Benefits\"].str.replace(\",\",\"\")\n",
    "sunshine[\"Taxable Benefits\"] = sunshine[\"Taxable Benefits\"].astype(float)\n",
    "sunshine.head()"
   ]
  },
  {
   "cell_type": "code",
   "execution_count": 11,
   "metadata": {
    "collapsed": true
   },
   "outputs": [],
   "source": [
    "# Check Null values and remove"
   ]
  },
  {
   "cell_type": "code",
   "execution_count": 12,
   "metadata": {},
   "outputs": [
    {
     "data": {
      "text/plain": [
       "Sector              0\n",
       "Last Name           0\n",
       "First Name          1\n",
       "Salary Paid         0\n",
       "Taxable Benefits    1\n",
       "Employer            0\n",
       "Job Title           0\n",
       "Calendar Year       0\n",
       "dtype: int64"
      ]
     },
     "execution_count": 12,
     "metadata": {},
     "output_type": "execute_result"
    }
   ],
   "source": [
    "sunshine.isnull().sum()"
   ]
  },
  {
   "cell_type": "code",
   "execution_count": 13,
   "metadata": {},
   "outputs": [
    {
     "data": {
      "text/html": [
       "<div>\n",
       "<style>\n",
       "    .dataframe thead tr:only-child th {\n",
       "        text-align: right;\n",
       "    }\n",
       "\n",
       "    .dataframe thead th {\n",
       "        text-align: left;\n",
       "    }\n",
       "\n",
       "    .dataframe tbody tr th {\n",
       "        vertical-align: top;\n",
       "    }\n",
       "</style>\n",
       "<table border=\"1\" class=\"dataframe\">\n",
       "  <thead>\n",
       "    <tr style=\"text-align: right;\">\n",
       "      <th></th>\n",
       "      <th>Sector</th>\n",
       "      <th>Last Name</th>\n",
       "      <th>First Name</th>\n",
       "      <th>Salary Paid</th>\n",
       "      <th>Taxable Benefits</th>\n",
       "      <th>Employer</th>\n",
       "      <th>Job Title</th>\n",
       "      <th>Calendar Year</th>\n",
       "    </tr>\n",
       "  </thead>\n",
       "  <tbody>\n",
       "    <tr>\n",
       "      <th>93157</th>\n",
       "      <td>Crown Agencies</td>\n",
       "      <td>LI</td>\n",
       "      <td>NaN</td>\n",
       "      <td>108421.82</td>\n",
       "      <td>47.18</td>\n",
       "      <td>eHealth Ontario</td>\n",
       "      <td>Privacy and Security Architect</td>\n",
       "      <td>2013</td>\n",
       "    </tr>\n",
       "  </tbody>\n",
       "</table>\n",
       "</div>"
      ],
      "text/plain": [
       "               Sector Last Name First Name  Salary Paid  Taxable Benefits  \\\n",
       "93157  Crown Agencies        LI        NaN    108421.82             47.18   \n",
       "\n",
       "               Employer                        Job Title  Calendar Year  \n",
       "93157  eHealth Ontario   Privacy and Security Architect            2013  "
      ]
     },
     "execution_count": 13,
     "metadata": {},
     "output_type": "execute_result"
    }
   ],
   "source": [
    "sunshine[sunshine['First Name'].isnull()] "
   ]
  },
  {
   "cell_type": "code",
   "execution_count": 14,
   "metadata": {
    "collapsed": true
   },
   "outputs": [],
   "source": [
    "sunshine.iloc[93157,2] = \"BLANK\""
   ]
  },
  {
   "cell_type": "code",
   "execution_count": 15,
   "metadata": {},
   "outputs": [
    {
     "data": {
      "text/html": [
       "<div>\n",
       "<style>\n",
       "    .dataframe thead tr:only-child th {\n",
       "        text-align: right;\n",
       "    }\n",
       "\n",
       "    .dataframe thead th {\n",
       "        text-align: left;\n",
       "    }\n",
       "\n",
       "    .dataframe tbody tr th {\n",
       "        vertical-align: top;\n",
       "    }\n",
       "</style>\n",
       "<table border=\"1\" class=\"dataframe\">\n",
       "  <thead>\n",
       "    <tr style=\"text-align: right;\">\n",
       "      <th></th>\n",
       "      <th>Sector</th>\n",
       "      <th>Last Name</th>\n",
       "      <th>First Name</th>\n",
       "      <th>Salary Paid</th>\n",
       "      <th>Taxable Benefits</th>\n",
       "      <th>Employer</th>\n",
       "      <th>Job Title</th>\n",
       "      <th>Calendar Year</th>\n",
       "    </tr>\n",
       "  </thead>\n",
       "  <tbody>\n",
       "    <tr>\n",
       "      <th>382383</th>\n",
       "      <td>Other Public Sector Employers</td>\n",
       "      <td>Malenfant</td>\n",
       "      <td>James</td>\n",
       "      <td>152545.47</td>\n",
       "      <td>NaN</td>\n",
       "      <td>Independent Electricity System Operator</td>\n",
       "      <td>Senior Analyst - Compliance and Dispute Resolu...</td>\n",
       "      <td>2016</td>\n",
       "    </tr>\n",
       "  </tbody>\n",
       "</table>\n",
       "</div>"
      ],
      "text/plain": [
       "                               Sector  Last Name First Name  Salary Paid  \\\n",
       "382383  Other Public Sector Employers  Malenfant      James    152545.47   \n",
       "\n",
       "        Taxable Benefits                                 Employer  \\\n",
       "382383               NaN  Independent Electricity System Operator   \n",
       "\n",
       "                                                Job Title  Calendar Year  \n",
       "382383  Senior Analyst - Compliance and Dispute Resolu...           2016  "
      ]
     },
     "execution_count": 15,
     "metadata": {},
     "output_type": "execute_result"
    }
   ],
   "source": [
    "sunshine[sunshine['Taxable Benefits'].isnull()]"
   ]
  },
  {
   "cell_type": "code",
   "execution_count": 16,
   "metadata": {
    "collapsed": true
   },
   "outputs": [],
   "source": [
    "sunshine.iloc[382383,4]=0"
   ]
  },
  {
   "cell_type": "code",
   "execution_count": 17,
   "metadata": {
    "collapsed": true
   },
   "outputs": [],
   "source": [
    "sunshine['Sector'] = sunshine['Sector'].str.strip().str.upper()"
   ]
  },
  {
   "cell_type": "code",
   "execution_count": 18,
   "metadata": {
    "collapsed": true
   },
   "outputs": [],
   "source": [
    "sunshine['Last Name'] = sunshine['Last Name'].str.strip().str.upper()\n",
    "sunshine['First Name'] = sunshine['First Name'].str.strip().str.upper()"
   ]
  },
  {
   "cell_type": "code",
   "execution_count": 19,
   "metadata": {},
   "outputs": [
    {
     "data": {
      "text/plain": [
       "3048"
      ]
     },
     "execution_count": 19,
     "metadata": {},
     "output_type": "execute_result"
    }
   ],
   "source": [
    "sunshine['Employer'].nunique()"
   ]
  },
  {
   "cell_type": "code",
   "execution_count": 20,
   "metadata": {},
   "outputs": [
    {
     "data": {
      "text/plain": [
       "2799"
      ]
     },
     "execution_count": 20,
     "metadata": {},
     "output_type": "execute_result"
    }
   ],
   "source": [
    "sunshine['Employer'].str.strip().str.upper().nunique()"
   ]
  },
  {
   "cell_type": "code",
   "execution_count": 21,
   "metadata": {
    "collapsed": true
   },
   "outputs": [],
   "source": [
    "sunshine['Employer'] = sunshine['Employer'].str.strip().str.upper()"
   ]
  },
  {
   "cell_type": "code",
   "execution_count": 22,
   "metadata": {},
   "outputs": [],
   "source": [
    "#2016 Data: SECONDED (COMMUNITY SAFETY AND CORRECTIONAL SERVICES) change to match others\n",
    "#SECONDED (COMM. SAFETY AND CORR. SERVICES)\n",
    "sunshine[\"Sector\"] = sunshine[\"Sector\"].str.replace(\"*\",\"\")\n",
    "sunshine[\"Sector\"] = sunshine[\"Sector\"].str.replace(\"SECONDED \\(COMMUNITY SAFETY AND CORRECTIONAL SERVICES\\)\",\"SECONDED (COMM. SAFETY AND CORR. SERVICES)\")"
   ]
  },
  {
   "cell_type": "code",
   "execution_count": 23,
   "metadata": {},
   "outputs": [
    {
     "name": "stdout",
     "output_type": "stream",
     "text": [
      "<class 'pandas.core.frame.DataFrame'>\n",
      "RangeIndex: 422549 entries, 0 to 422548\n",
      "Data columns (total 8 columns):\n",
      "Sector              422549 non-null object\n",
      "Last Name           422549 non-null object\n",
      "First Name          422549 non-null object\n",
      "Salary Paid         422549 non-null float64\n",
      "Taxable Benefits    422549 non-null float64\n",
      "Employer            422549 non-null object\n",
      "Job Title           422549 non-null object\n",
      "Calendar Year       422549 non-null int64\n",
      "dtypes: float64(2), int64(1), object(5)\n",
      "memory usage: 25.8+ MB\n"
     ]
    }
   ],
   "source": [
    "sunshine.info()"
   ]
  },
  {
   "cell_type": "markdown",
   "metadata": {},
   "source": [
    "## Optimize the sunshine DF"
   ]
  },
  {
   "cell_type": "code",
   "execution_count": 24,
   "metadata": {},
   "outputs": [
    {
     "name": "stdout",
     "output_type": "stream",
     "text": [
      "<class 'pandas.core.frame.DataFrame'>\n",
      "RangeIndex: 422549 entries, 0 to 422548\n",
      "Data columns (total 8 columns):\n",
      "Sector              422549 non-null object\n",
      "Last Name           422549 non-null object\n",
      "First Name          422549 non-null object\n",
      "Salary Paid         422549 non-null float64\n",
      "Taxable Benefits    422549 non-null float64\n",
      "Employer            422549 non-null object\n",
      "Job Title           422549 non-null object\n",
      "Calendar Year       422549 non-null int64\n",
      "dtypes: float64(2), int64(1), object(5)\n",
      "memory usage: 25.8+ MB\n"
     ]
    }
   ],
   "source": [
    "sunshine.info()"
   ]
  },
  {
   "cell_type": "code",
   "execution_count": 25,
   "metadata": {},
   "outputs": [
    {
     "data": {
      "text/plain": [
       "Sector                  26\n",
       "Last Name            59356\n",
       "First Name           29812\n",
       "Salary Paid         346146\n",
       "Taxable Benefits     95113\n",
       "Employer              2799\n",
       "Job Title            66466\n",
       "Calendar Year            4\n",
       "dtype: int64"
      ]
     },
     "execution_count": 25,
     "metadata": {},
     "output_type": "execute_result"
    }
   ],
   "source": [
    "sunshine.nunique()"
   ]
  },
  {
   "cell_type": "code",
   "execution_count": 26,
   "metadata": {
    "collapsed": true
   },
   "outputs": [],
   "source": [
    "sunshine[\"Sector\"] = sunshine[\"Sector\"].astype(\"category\")\n",
    "sunshine[\"Employer\"] = sunshine[\"Employer\"].astype(\"category\")"
   ]
  },
  {
   "cell_type": "code",
   "execution_count": 27,
   "metadata": {},
   "outputs": [
    {
     "name": "stdout",
     "output_type": "stream",
     "text": [
      "<class 'pandas.core.frame.DataFrame'>\n",
      "RangeIndex: 422549 entries, 0 to 422548\n",
      "Data columns (total 8 columns):\n",
      "Sector              422549 non-null category\n",
      "Last Name           422549 non-null object\n",
      "First Name          422549 non-null object\n",
      "Salary Paid         422549 non-null float64\n",
      "Taxable Benefits    422549 non-null float64\n",
      "Employer            422549 non-null category\n",
      "Job Title           422549 non-null object\n",
      "Calendar Year       422549 non-null int64\n",
      "dtypes: category(2), float64(2), int64(1), object(3)\n",
      "memory usage: 20.7+ MB\n"
     ]
    }
   ],
   "source": [
    "sunshine.info()"
   ]
  },
  {
   "cell_type": "markdown",
   "metadata": {},
   "source": [
    "## Graph Data"
   ]
  },
  {
   "cell_type": "code",
   "execution_count": 28,
   "metadata": {
    "collapsed": true
   },
   "outputs": [],
   "source": [
    "year_groups = sunshine.groupby(\"Calendar Year\")"
   ]
  },
  {
   "cell_type": "code",
   "execution_count": 29,
   "metadata": {},
   "outputs": [
    {
     "data": {
      "text/plain": [
       "MUNICIPALITIES AND SERVICES                                 19914\n",
       "UNIVERSITIES                                                14706\n",
       "SCHOOL BOARDS                                               12037\n",
       "HYDRO ONE AND ONTARIO POWER GENERATION                      11357\n",
       "GOVERNMENT OF ONTARIO - MINISTRIES                          10349\n",
       "HOSPITALS AND BOARDS OF PUBLIC HEALTH                        8449\n",
       "COLLEGES                                                     4016\n",
       "OTHER PUBLIC SECTOR EMPLOYERS                                3522\n",
       "CROWN AGENCIES                                               3185\n",
       "GOVERNMENT OF ONTARIO - JUDICIARY                             628\n",
       "GOVERNMENT OF ONTARIO - LEGISLATIVE ASSEMBLY AND OFFICES      246\n",
       "SECONDED (EDUCATION)                                           94\n",
       "SECONDED (COMM. SAFETY AND CORR. SERVICES)                     29\n",
       "SECONDED (CHILDREN & YOUTH SERVICES)                            5\n",
       "SECONDED (TRAINING, COLLEGES & UNIVERSITIES)                    2\n",
       "SECONDED (HEALTH & LONG–TERM CARE)                              2\n",
       "SECONDED (CITIZENSHIP & IMMIGRATION)                            1\n",
       "SECONDED (ADVANCED EDUCATION AND SKILLS DEVELOPMENT)            0\n",
       "SECONDED (HEALTH AND LONG-TERM CARE)                            0\n",
       "SECONDED (TRANSPORTATION)                                       0\n",
       "ONTARIO POWER GENERATION                                        0\n",
       "SECONDED (LABOUR)                                               0\n",
       "SECONDED (TOURISM, CULTURE & SPORT)                             0\n",
       "SECONDED (TRAINING, COLLEGES AND UNIVERSITIES)                  0\n",
       "SECONDED (CHILDREN AND YOUTH SERVICES)                          0\n",
       "SECONDED (COMMUNITY AND SOCIAL SERVICES)                        0\n",
       "Name: Sector, dtype: int64"
      ]
     },
     "execution_count": 29,
     "metadata": {},
     "output_type": "execute_result"
    }
   ],
   "source": [
    "year_groups.get_group(2012)[\"Sector\"].value_counts()"
   ]
  },
  {
   "cell_type": "code",
   "execution_count": 30,
   "metadata": {
    "collapsed": true
   },
   "outputs": [],
   "source": [
    "sector_count_2012 = sunshine[sunshine['Calendar Year']==2012]['Sector'].value_counts()\n",
    "sector_count_2013 = sunshine[sunshine['Calendar Year']==2013]['Sector'].value_counts()\n",
    "sector_count_2014 = sunshine[sunshine['Calendar Year']==2014]['Sector'].value_counts()\n",
    "sector_count_2016 = sunshine[sunshine['Calendar Year']==2016]['Sector'].value_counts()"
   ]
  },
  {
   "cell_type": "code",
   "execution_count": 31,
   "metadata": {},
   "outputs": [
    {
     "data": {
      "text/plain": [
       "MUNICIPALITIES AND SERVICES                                 19914\n",
       "UNIVERSITIES                                                14706\n",
       "SCHOOL BOARDS                                               12037\n",
       "HYDRO ONE AND ONTARIO POWER GENERATION                      11357\n",
       "GOVERNMENT OF ONTARIO - MINISTRIES                          10349\n",
       "HOSPITALS AND BOARDS OF PUBLIC HEALTH                        8449\n",
       "COLLEGES                                                     4016\n",
       "OTHER PUBLIC SECTOR EMPLOYERS                                3522\n",
       "CROWN AGENCIES                                               3185\n",
       "GOVERNMENT OF ONTARIO - JUDICIARY                             628\n",
       "GOVERNMENT OF ONTARIO - LEGISLATIVE ASSEMBLY AND OFFICES      246\n",
       "SECONDED (EDUCATION)                                           94\n",
       "SECONDED (COMM. SAFETY AND CORR. SERVICES)                     29\n",
       "SECONDED (CHILDREN & YOUTH SERVICES)                            5\n",
       "SECONDED (TRAINING, COLLEGES & UNIVERSITIES)                    2\n",
       "SECONDED (HEALTH & LONG–TERM CARE)                              2\n",
       "SECONDED (CITIZENSHIP & IMMIGRATION)                            1\n",
       "Name: Sector, dtype: int64"
      ]
     },
     "execution_count": 31,
     "metadata": {},
     "output_type": "execute_result"
    }
   ],
   "source": [
    "sector_count_2012[sector_count_2012 > 0] #get values of sectors for each year and create a new dataframe. Y=year, X=Sectors"
   ]
  },
  {
   "cell_type": "code",
   "execution_count": 32,
   "metadata": {},
   "outputs": [],
   "source": [
    "a = sector_count_2012.to_frame()\n",
    "b = sector_count_2013.to_frame()\n",
    "c = sector_count_2014.to_frame()\n",
    "d = sector_count_2016.to_frame()"
   ]
  },
  {
   "cell_type": "code",
   "execution_count": 34,
   "metadata": {},
   "outputs": [],
   "source": [
    "sectors_in_years = a.merge(b, left_index=True, right_index=True, suffixes=('_2012', '_2013')).merge(c, left_index=True, right_index=True).merge(d, left_index=True, right_index=True, suffixes=('_2014', '_2016'))"
   ]
  },
  {
   "cell_type": "code",
   "execution_count": 50,
   "metadata": {
    "scrolled": false
   },
   "outputs": [
    {
     "data": {
      "text/html": [
       "<div>\n",
       "<style>\n",
       "    .dataframe thead tr:only-child th {\n",
       "        text-align: right;\n",
       "    }\n",
       "\n",
       "    .dataframe thead th {\n",
       "        text-align: left;\n",
       "    }\n",
       "\n",
       "    .dataframe tbody tr th {\n",
       "        vertical-align: top;\n",
       "    }\n",
       "</style>\n",
       "<table border=\"1\" class=\"dataframe\">\n",
       "  <thead>\n",
       "    <tr style=\"text-align: right;\">\n",
       "      <th></th>\n",
       "      <th>Sector_2012</th>\n",
       "      <th>Sector_2013</th>\n",
       "      <th>Sector_2014</th>\n",
       "      <th>Sector_2016</th>\n",
       "    </tr>\n",
       "  </thead>\n",
       "  <tbody>\n",
       "    <tr>\n",
       "      <th>MUNICIPALITIES AND SERVICES</th>\n",
       "      <td>19914</td>\n",
       "      <td>25675</td>\n",
       "      <td>30800</td>\n",
       "      <td>35684</td>\n",
       "    </tr>\n",
       "    <tr>\n",
       "      <th>UNIVERSITIES</th>\n",
       "      <td>14706</td>\n",
       "      <td>15581</td>\n",
       "      <td>16375</td>\n",
       "      <td>17948</td>\n",
       "    </tr>\n",
       "    <tr>\n",
       "      <th>SCHOOL BOARDS</th>\n",
       "      <td>12037</td>\n",
       "      <td>12294</td>\n",
       "      <td>12731</td>\n",
       "      <td>18417</td>\n",
       "    </tr>\n",
       "    <tr>\n",
       "      <th>HYDRO ONE AND ONTARIO POWER GENERATION</th>\n",
       "      <td>11357</td>\n",
       "      <td>11777</td>\n",
       "      <td>12026</td>\n",
       "      <td>0</td>\n",
       "    </tr>\n",
       "    <tr>\n",
       "      <th>GOVERNMENT OF ONTARIO - MINISTRIES</th>\n",
       "      <td>10349</td>\n",
       "      <td>10483</td>\n",
       "      <td>13536</td>\n",
       "      <td>14096</td>\n",
       "    </tr>\n",
       "    <tr>\n",
       "      <th>HOSPITALS AND BOARDS OF PUBLIC HEALTH</th>\n",
       "      <td>8449</td>\n",
       "      <td>9301</td>\n",
       "      <td>11628</td>\n",
       "      <td>13360</td>\n",
       "    </tr>\n",
       "    <tr>\n",
       "      <th>COLLEGES</th>\n",
       "      <td>4016</td>\n",
       "      <td>4196</td>\n",
       "      <td>4631</td>\n",
       "      <td>5375</td>\n",
       "    </tr>\n",
       "    <tr>\n",
       "      <th>OTHER PUBLIC SECTOR EMPLOYERS</th>\n",
       "      <td>3522</td>\n",
       "      <td>4190</td>\n",
       "      <td>4994</td>\n",
       "      <td>6042</td>\n",
       "    </tr>\n",
       "    <tr>\n",
       "      <th>CROWN AGENCIES</th>\n",
       "      <td>3185</td>\n",
       "      <td>3414</td>\n",
       "      <td>3909</td>\n",
       "      <td>4742</td>\n",
       "    </tr>\n",
       "    <tr>\n",
       "      <th>GOVERNMENT OF ONTARIO - JUDICIARY</th>\n",
       "      <td>628</td>\n",
       "      <td>633</td>\n",
       "      <td>628</td>\n",
       "      <td>613</td>\n",
       "    </tr>\n",
       "    <tr>\n",
       "      <th>GOVERNMENT OF ONTARIO - LEGISLATIVE ASSEMBLY AND OFFICES</th>\n",
       "      <td>246</td>\n",
       "      <td>233</td>\n",
       "      <td>252</td>\n",
       "      <td>267</td>\n",
       "    </tr>\n",
       "    <tr>\n",
       "      <th>SECONDED (EDUCATION)</th>\n",
       "      <td>94</td>\n",
       "      <td>99</td>\n",
       "      <td>100</td>\n",
       "      <td>112</td>\n",
       "    </tr>\n",
       "    <tr>\n",
       "      <th>SECONDED (COMM. SAFETY AND CORR. SERVICES)</th>\n",
       "      <td>29</td>\n",
       "      <td>32</td>\n",
       "      <td>37</td>\n",
       "      <td>40</td>\n",
       "    </tr>\n",
       "    <tr>\n",
       "      <th>SECONDED (CHILDREN &amp; YOUTH SERVICES)</th>\n",
       "      <td>5</td>\n",
       "      <td>4</td>\n",
       "      <td>0</td>\n",
       "      <td>0</td>\n",
       "    </tr>\n",
       "    <tr>\n",
       "      <th>SECONDED (TRAINING, COLLEGES &amp; UNIVERSITIES)</th>\n",
       "      <td>2</td>\n",
       "      <td>2</td>\n",
       "      <td>0</td>\n",
       "      <td>0</td>\n",
       "    </tr>\n",
       "    <tr>\n",
       "      <th>SECONDED (HEALTH &amp; LONG–TERM CARE)</th>\n",
       "      <td>2</td>\n",
       "      <td>1</td>\n",
       "      <td>0</td>\n",
       "      <td>0</td>\n",
       "    </tr>\n",
       "    <tr>\n",
       "      <th>SECONDED (CITIZENSHIP &amp; IMMIGRATION)</th>\n",
       "      <td>1</td>\n",
       "      <td>0</td>\n",
       "      <td>0</td>\n",
       "      <td>0</td>\n",
       "    </tr>\n",
       "    <tr>\n",
       "      <th>SECONDED (ADVANCED EDUCATION AND SKILLS DEVELOPMENT)</th>\n",
       "      <td>0</td>\n",
       "      <td>0</td>\n",
       "      <td>0</td>\n",
       "      <td>4</td>\n",
       "    </tr>\n",
       "    <tr>\n",
       "      <th>SECONDED (HEALTH AND LONG-TERM CARE)</th>\n",
       "      <td>0</td>\n",
       "      <td>0</td>\n",
       "      <td>1</td>\n",
       "      <td>2</td>\n",
       "    </tr>\n",
       "    <tr>\n",
       "      <th>SECONDED (TRANSPORTATION)</th>\n",
       "      <td>0</td>\n",
       "      <td>0</td>\n",
       "      <td>1</td>\n",
       "      <td>0</td>\n",
       "    </tr>\n",
       "    <tr>\n",
       "      <th>ONTARIO POWER GENERATION</th>\n",
       "      <td>0</td>\n",
       "      <td>0</td>\n",
       "      <td>0</td>\n",
       "      <td>7730</td>\n",
       "    </tr>\n",
       "    <tr>\n",
       "      <th>SECONDED (LABOUR)</th>\n",
       "      <td>0</td>\n",
       "      <td>0</td>\n",
       "      <td>0</td>\n",
       "      <td>1</td>\n",
       "    </tr>\n",
       "    <tr>\n",
       "      <th>SECONDED (TOURISM, CULTURE &amp; SPORT)</th>\n",
       "      <td>0</td>\n",
       "      <td>1</td>\n",
       "      <td>0</td>\n",
       "      <td>0</td>\n",
       "    </tr>\n",
       "    <tr>\n",
       "      <th>SECONDED (TRAINING, COLLEGES AND UNIVERSITIES)</th>\n",
       "      <td>0</td>\n",
       "      <td>0</td>\n",
       "      <td>1</td>\n",
       "      <td>0</td>\n",
       "    </tr>\n",
       "    <tr>\n",
       "      <th>SECONDED (CHILDREN AND YOUTH SERVICES)</th>\n",
       "      <td>0</td>\n",
       "      <td>0</td>\n",
       "      <td>4</td>\n",
       "      <td>3</td>\n",
       "    </tr>\n",
       "    <tr>\n",
       "      <th>SECONDED (COMMUNITY AND SOCIAL SERVICES)</th>\n",
       "      <td>0</td>\n",
       "      <td>0</td>\n",
       "      <td>1</td>\n",
       "      <td>0</td>\n",
       "    </tr>\n",
       "  </tbody>\n",
       "</table>\n",
       "</div>"
      ],
      "text/plain": [
       "                                                    Sector_2012  Sector_2013  \\\n",
       "MUNICIPALITIES AND SERVICES                               19914        25675   \n",
       "UNIVERSITIES                                              14706        15581   \n",
       "SCHOOL BOARDS                                             12037        12294   \n",
       "HYDRO ONE AND ONTARIO POWER GENERATION                    11357        11777   \n",
       "GOVERNMENT OF ONTARIO - MINISTRIES                        10349        10483   \n",
       "HOSPITALS AND BOARDS OF PUBLIC HEALTH                      8449         9301   \n",
       "COLLEGES                                                   4016         4196   \n",
       "OTHER PUBLIC SECTOR EMPLOYERS                              3522         4190   \n",
       "CROWN AGENCIES                                             3185         3414   \n",
       "GOVERNMENT OF ONTARIO - JUDICIARY                           628          633   \n",
       "GOVERNMENT OF ONTARIO - LEGISLATIVE ASSEMBLY AN...          246          233   \n",
       "SECONDED (EDUCATION)                                         94           99   \n",
       "SECONDED (COMM. SAFETY AND CORR. SERVICES)                   29           32   \n",
       "SECONDED (CHILDREN & YOUTH SERVICES)                          5            4   \n",
       "SECONDED (TRAINING, COLLEGES & UNIVERSITIES)                  2            2   \n",
       "SECONDED (HEALTH & LONG–TERM CARE)                            2            1   \n",
       "SECONDED (CITIZENSHIP & IMMIGRATION)                          1            0   \n",
       "SECONDED (ADVANCED EDUCATION AND SKILLS DEVELOP...            0            0   \n",
       "SECONDED (HEALTH AND LONG-TERM CARE)                          0            0   \n",
       "SECONDED (TRANSPORTATION)                                     0            0   \n",
       "ONTARIO POWER GENERATION                                      0            0   \n",
       "SECONDED (LABOUR)                                             0            0   \n",
       "SECONDED (TOURISM, CULTURE & SPORT)                           0            1   \n",
       "SECONDED (TRAINING, COLLEGES AND UNIVERSITIES)                0            0   \n",
       "SECONDED (CHILDREN AND YOUTH SERVICES)                        0            0   \n",
       "SECONDED (COMMUNITY AND SOCIAL SERVICES)                      0            0   \n",
       "\n",
       "                                                    Sector_2014  Sector_2016  \n",
       "MUNICIPALITIES AND SERVICES                               30800        35684  \n",
       "UNIVERSITIES                                              16375        17948  \n",
       "SCHOOL BOARDS                                             12731        18417  \n",
       "HYDRO ONE AND ONTARIO POWER GENERATION                    12026            0  \n",
       "GOVERNMENT OF ONTARIO - MINISTRIES                        13536        14096  \n",
       "HOSPITALS AND BOARDS OF PUBLIC HEALTH                     11628        13360  \n",
       "COLLEGES                                                   4631         5375  \n",
       "OTHER PUBLIC SECTOR EMPLOYERS                              4994         6042  \n",
       "CROWN AGENCIES                                             3909         4742  \n",
       "GOVERNMENT OF ONTARIO - JUDICIARY                           628          613  \n",
       "GOVERNMENT OF ONTARIO - LEGISLATIVE ASSEMBLY AN...          252          267  \n",
       "SECONDED (EDUCATION)                                        100          112  \n",
       "SECONDED (COMM. SAFETY AND CORR. SERVICES)                   37           40  \n",
       "SECONDED (CHILDREN & YOUTH SERVICES)                          0            0  \n",
       "SECONDED (TRAINING, COLLEGES & UNIVERSITIES)                  0            0  \n",
       "SECONDED (HEALTH & LONG–TERM CARE)                            0            0  \n",
       "SECONDED (CITIZENSHIP & IMMIGRATION)                          0            0  \n",
       "SECONDED (ADVANCED EDUCATION AND SKILLS DEVELOP...            0            4  \n",
       "SECONDED (HEALTH AND LONG-TERM CARE)                          1            2  \n",
       "SECONDED (TRANSPORTATION)                                     1            0  \n",
       "ONTARIO POWER GENERATION                                      0         7730  \n",
       "SECONDED (LABOUR)                                             0            1  \n",
       "SECONDED (TOURISM, CULTURE & SPORT)                           0            0  \n",
       "SECONDED (TRAINING, COLLEGES AND UNIVERSITIES)                1            0  \n",
       "SECONDED (CHILDREN AND YOUTH SERVICES)                        4            3  \n",
       "SECONDED (COMMUNITY AND SOCIAL SERVICES)                      1            0  "
      ]
     },
     "execution_count": 50,
     "metadata": {},
     "output_type": "execute_result"
    }
   ],
   "source": [
    "sectors_in_years"
   ]
  },
  {
   "cell_type": "code",
   "execution_count": 63,
   "metadata": {},
   "outputs": [
    {
     "data": {
      "text/plain": [
       "<matplotlib.axes._subplots.AxesSubplot at 0x20531ddbfd0>"
      ]
     },
     "execution_count": 63,
     "metadata": {},
     "output_type": "execute_result"
    },
    {
     "data": {
      "image/png": "[encoded data removed]",
      "text/plain": [
       "<matplotlib.figure.Figure at 0x2053044f208>"
      ]
     },
     "metadata": {},
     "output_type": "display_data"
    }
   ],
   "source": [
    "sectors_in_years.plot(kind='bar',figsize=(15,10))"
   ]
  },
  {
   "cell_type": "code",
   "execution_count": 121,
   "metadata": {},
   "outputs": [],
   "source": [
    "def over_1000(row):\n",
    "    return (row[0]>1000) | (row[1]>1000) | (row[2]>1000) | (row[3]>1000)\n",
    "    #return row[0]>1000 & row[1]>1000 & row[2]>1000 & row[3]>1000"
   ]
  },
  {
   "cell_type": "code",
   "execution_count": 122,
   "metadata": {},
   "outputs": [
    {
     "data": {
      "text/plain": [
       "MUNICIPALITIES AND SERVICES                                  True\n",
       "UNIVERSITIES                                                 True\n",
       "SCHOOL BOARDS                                                True\n",
       "HYDRO ONE AND ONTARIO POWER GENERATION                       True\n",
       "GOVERNMENT OF ONTARIO - MINISTRIES                           True\n",
       "HOSPITALS AND BOARDS OF PUBLIC HEALTH                        True\n",
       "COLLEGES                                                     True\n",
       "OTHER PUBLIC SECTOR EMPLOYERS                                True\n",
       "CROWN AGENCIES                                               True\n",
       "GOVERNMENT OF ONTARIO - JUDICIARY                           False\n",
       "GOVERNMENT OF ONTARIO - LEGISLATIVE ASSEMBLY AND OFFICES    False\n",
       "SECONDED (EDUCATION)                                        False\n",
       "SECONDED (COMM. SAFETY AND CORR. SERVICES)                  False\n",
       "SECONDED (CHILDREN & YOUTH SERVICES)                        False\n",
       "SECONDED (TRAINING, COLLEGES & UNIVERSITIES)                False\n",
       "SECONDED (HEALTH & LONG–TERM CARE)                          False\n",
       "SECONDED (CITIZENSHIP & IMMIGRATION)                        False\n",
       "SECONDED (ADVANCED EDUCATION AND SKILLS DEVELOPMENT)        False\n",
       "SECONDED (HEALTH AND LONG-TERM CARE)                        False\n",
       "SECONDED (TRANSPORTATION)                                   False\n",
       "ONTARIO POWER GENERATION                                     True\n",
       "SECONDED (LABOUR)                                           False\n",
       "SECONDED (TOURISM, CULTURE & SPORT)                         False\n",
       "SECONDED (TRAINING, COLLEGES AND UNIVERSITIES)              False\n",
       "SECONDED (CHILDREN AND YOUTH SERVICES)                      False\n",
       "SECONDED (COMMUNITY AND SOCIAL SERVICES)                    False\n",
       "dtype: bool"
      ]
     },
     "execution_count": 122,
     "metadata": {},
     "output_type": "execute_result"
    }
   ],
   "source": [
    "sectors_in_years.apply(over_1000, axis=1)\n",
    "    "
   ]
  },
  {
   "cell_type": "code",
   "execution_count": 116,
   "metadata": {},
   "outputs": [
    {
     "data": {
      "text/html": [
       "<div>\n",
       "<style>\n",
       "    .dataframe thead tr:only-child th {\n",
       "        text-align: right;\n",
       "    }\n",
       "\n",
       "    .dataframe thead th {\n",
       "        text-align: left;\n",
       "    }\n",
       "\n",
       "    .dataframe tbody tr th {\n",
       "        vertical-align: top;\n",
       "    }\n",
       "</style>\n",
       "<table border=\"1\" class=\"dataframe\">\n",
       "  <thead>\n",
       "    <tr style=\"text-align: right;\">\n",
       "      <th></th>\n",
       "      <th>Sector_2012</th>\n",
       "      <th>Sector_2013</th>\n",
       "      <th>Sector_2014</th>\n",
       "      <th>Sector_2016</th>\n",
       "    </tr>\n",
       "  </thead>\n",
       "  <tbody>\n",
       "    <tr>\n",
       "      <th>MUNICIPALITIES AND SERVICES</th>\n",
       "      <td>True</td>\n",
       "      <td>True</td>\n",
       "      <td>True</td>\n",
       "      <td>True</td>\n",
       "    </tr>\n",
       "    <tr>\n",
       "      <th>UNIVERSITIES</th>\n",
       "      <td>True</td>\n",
       "      <td>True</td>\n",
       "      <td>True</td>\n",
       "      <td>True</td>\n",
       "    </tr>\n",
       "    <tr>\n",
       "      <th>SCHOOL BOARDS</th>\n",
       "      <td>True</td>\n",
       "      <td>True</td>\n",
       "      <td>True</td>\n",
       "      <td>True</td>\n",
       "    </tr>\n",
       "    <tr>\n",
       "      <th>HYDRO ONE AND ONTARIO POWER GENERATION</th>\n",
       "      <td>True</td>\n",
       "      <td>True</td>\n",
       "      <td>True</td>\n",
       "      <td>False</td>\n",
       "    </tr>\n",
       "    <tr>\n",
       "      <th>GOVERNMENT OF ONTARIO - MINISTRIES</th>\n",
       "      <td>True</td>\n",
       "      <td>True</td>\n",
       "      <td>True</td>\n",
       "      <td>True</td>\n",
       "    </tr>\n",
       "    <tr>\n",
       "      <th>HOSPITALS AND BOARDS OF PUBLIC HEALTH</th>\n",
       "      <td>True</td>\n",
       "      <td>True</td>\n",
       "      <td>True</td>\n",
       "      <td>True</td>\n",
       "    </tr>\n",
       "    <tr>\n",
       "      <th>COLLEGES</th>\n",
       "      <td>True</td>\n",
       "      <td>True</td>\n",
       "      <td>True</td>\n",
       "      <td>True</td>\n",
       "    </tr>\n",
       "    <tr>\n",
       "      <th>OTHER PUBLIC SECTOR EMPLOYERS</th>\n",
       "      <td>True</td>\n",
       "      <td>True</td>\n",
       "      <td>True</td>\n",
       "      <td>True</td>\n",
       "    </tr>\n",
       "    <tr>\n",
       "      <th>CROWN AGENCIES</th>\n",
       "      <td>True</td>\n",
       "      <td>True</td>\n",
       "      <td>True</td>\n",
       "      <td>True</td>\n",
       "    </tr>\n",
       "    <tr>\n",
       "      <th>GOVERNMENT OF ONTARIO - JUDICIARY</th>\n",
       "      <td>False</td>\n",
       "      <td>False</td>\n",
       "      <td>False</td>\n",
       "      <td>False</td>\n",
       "    </tr>\n",
       "    <tr>\n",
       "      <th>GOVERNMENT OF ONTARIO - LEGISLATIVE ASSEMBLY AND OFFICES</th>\n",
       "      <td>False</td>\n",
       "      <td>False</td>\n",
       "      <td>False</td>\n",
       "      <td>False</td>\n",
       "    </tr>\n",
       "    <tr>\n",
       "      <th>SECONDED (EDUCATION)</th>\n",
       "      <td>False</td>\n",
       "      <td>False</td>\n",
       "      <td>False</td>\n",
       "      <td>False</td>\n",
       "    </tr>\n",
       "    <tr>\n",
       "      <th>SECONDED (COMM. SAFETY AND CORR. SERVICES)</th>\n",
       "      <td>False</td>\n",
       "      <td>False</td>\n",
       "      <td>False</td>\n",
       "      <td>False</td>\n",
       "    </tr>\n",
       "    <tr>\n",
       "      <th>SECONDED (CHILDREN &amp; YOUTH SERVICES)</th>\n",
       "      <td>False</td>\n",
       "      <td>False</td>\n",
       "      <td>False</td>\n",
       "      <td>False</td>\n",
       "    </tr>\n",
       "    <tr>\n",
       "      <th>SECONDED (TRAINING, COLLEGES &amp; UNIVERSITIES)</th>\n",
       "      <td>False</td>\n",
       "      <td>False</td>\n",
       "      <td>False</td>\n",
       "      <td>False</td>\n",
       "    </tr>\n",
       "    <tr>\n",
       "      <th>SECONDED (HEALTH &amp; LONG–TERM CARE)</th>\n",
       "      <td>False</td>\n",
       "      <td>False</td>\n",
       "      <td>False</td>\n",
       "      <td>False</td>\n",
       "    </tr>\n",
       "    <tr>\n",
       "      <th>SECONDED (CITIZENSHIP &amp; IMMIGRATION)</th>\n",
       "      <td>False</td>\n",
       "      <td>False</td>\n",
       "      <td>False</td>\n",
       "      <td>False</td>\n",
       "    </tr>\n",
       "    <tr>\n",
       "      <th>SECONDED (ADVANCED EDUCATION AND SKILLS DEVELOPMENT)</th>\n",
       "      <td>False</td>\n",
       "      <td>False</td>\n",
       "      <td>False</td>\n",
       "      <td>False</td>\n",
       "    </tr>\n",
       "    <tr>\n",
       "      <th>SECONDED (HEALTH AND LONG-TERM CARE)</th>\n",
       "      <td>False</td>\n",
       "      <td>False</td>\n",
       "      <td>False</td>\n",
       "      <td>False</td>\n",
       "    </tr>\n",
       "    <tr>\n",
       "      <th>SECONDED (TRANSPORTATION)</th>\n",
       "      <td>False</td>\n",
       "      <td>False</td>\n",
       "      <td>False</td>\n",
       "      <td>False</td>\n",
       "    </tr>\n",
       "    <tr>\n",
       "      <th>ONTARIO POWER GENERATION</th>\n",
       "      <td>False</td>\n",
       "      <td>False</td>\n",
       "      <td>False</td>\n",
       "      <td>True</td>\n",
       "    </tr>\n",
       "    <tr>\n",
       "      <th>SECONDED (LABOUR)</th>\n",
       "      <td>False</td>\n",
       "      <td>False</td>\n",
       "      <td>False</td>\n",
       "      <td>False</td>\n",
       "    </tr>\n",
       "    <tr>\n",
       "      <th>SECONDED (TOURISM, CULTURE &amp; SPORT)</th>\n",
       "      <td>False</td>\n",
       "      <td>False</td>\n",
       "      <td>False</td>\n",
       "      <td>False</td>\n",
       "    </tr>\n",
       "    <tr>\n",
       "      <th>SECONDED (TRAINING, COLLEGES AND UNIVERSITIES)</th>\n",
       "      <td>False</td>\n",
       "      <td>False</td>\n",
       "      <td>False</td>\n",
       "      <td>False</td>\n",
       "    </tr>\n",
       "    <tr>\n",
       "      <th>SECONDED (CHILDREN AND YOUTH SERVICES)</th>\n",
       "      <td>False</td>\n",
       "      <td>False</td>\n",
       "      <td>False</td>\n",
       "      <td>False</td>\n",
       "    </tr>\n",
       "    <tr>\n",
       "      <th>SECONDED (COMMUNITY AND SOCIAL SERVICES)</th>\n",
       "      <td>False</td>\n",
       "      <td>False</td>\n",
       "      <td>False</td>\n",
       "      <td>False</td>\n",
       "    </tr>\n",
       "  </tbody>\n",
       "</table>\n",
       "</div>"
      ],
      "text/plain": [
       "                                                    Sector_2012  Sector_2013  \\\n",
       "MUNICIPALITIES AND SERVICES                                True         True   \n",
       "UNIVERSITIES                                               True         True   \n",
       "SCHOOL BOARDS                                              True         True   \n",
       "HYDRO ONE AND ONTARIO POWER GENERATION                     True         True   \n",
       "GOVERNMENT OF ONTARIO - MINISTRIES                         True         True   \n",
       "HOSPITALS AND BOARDS OF PUBLIC HEALTH                      True         True   \n",
       "COLLEGES                                                   True         True   \n",
       "OTHER PUBLIC SECTOR EMPLOYERS                              True         True   \n",
       "CROWN AGENCIES                                             True         True   \n",
       "GOVERNMENT OF ONTARIO - JUDICIARY                         False        False   \n",
       "GOVERNMENT OF ONTARIO - LEGISLATIVE ASSEMBLY AN...        False        False   \n",
       "SECONDED (EDUCATION)                                      False        False   \n",
       "SECONDED (COMM. SAFETY AND CORR. SERVICES)                False        False   \n",
       "SECONDED (CHILDREN & YOUTH SERVICES)                      False        False   \n",
       "SECONDED (TRAINING, COLLEGES & UNIVERSITIES)              False        False   \n",
       "SECONDED (HEALTH & LONG–TERM CARE)                        False        False   \n",
       "SECONDED (CITIZENSHIP & IMMIGRATION)                      False        False   \n",
       "SECONDED (ADVANCED EDUCATION AND SKILLS DEVELOP...        False        False   \n",
       "SECONDED (HEALTH AND LONG-TERM CARE)                      False        False   \n",
       "SECONDED (TRANSPORTATION)                                 False        False   \n",
       "ONTARIO POWER GENERATION                                  False        False   \n",
       "SECONDED (LABOUR)                                         False        False   \n",
       "SECONDED (TOURISM, CULTURE & SPORT)                       False        False   \n",
       "SECONDED (TRAINING, COLLEGES AND UNIVERSITIES)            False        False   \n",
       "SECONDED (CHILDREN AND YOUTH SERVICES)                    False        False   \n",
       "SECONDED (COMMUNITY AND SOCIAL SERVICES)                  False        False   \n",
       "\n",
       "                                                    Sector_2014  Sector_2016  \n",
       "MUNICIPALITIES AND SERVICES                                True         True  \n",
       "UNIVERSITIES                                               True         True  \n",
       "SCHOOL BOARDS                                              True         True  \n",
       "HYDRO ONE AND ONTARIO POWER GENERATION                     True        False  \n",
       "GOVERNMENT OF ONTARIO - MINISTRIES                         True         True  \n",
       "HOSPITALS AND BOARDS OF PUBLIC HEALTH                      True         True  \n",
       "COLLEGES                                                   True         True  \n",
       "OTHER PUBLIC SECTOR EMPLOYERS                              True         True  \n",
       "CROWN AGENCIES                                             True         True  \n",
       "GOVERNMENT OF ONTARIO - JUDICIARY                         False        False  \n",
       "GOVERNMENT OF ONTARIO - LEGISLATIVE ASSEMBLY AN...        False        False  \n",
       "SECONDED (EDUCATION)                                      False        False  \n",
       "SECONDED (COMM. SAFETY AND CORR. SERVICES)                False        False  \n",
       "SECONDED (CHILDREN & YOUTH SERVICES)                      False        False  \n",
       "SECONDED (TRAINING, COLLEGES & UNIVERSITIES)              False        False  \n",
       "SECONDED (HEALTH & LONG–TERM CARE)                        False        False  \n",
       "SECONDED (CITIZENSHIP & IMMIGRATION)                      False        False  \n",
       "SECONDED (ADVANCED EDUCATION AND SKILLS DEVELOP...        False        False  \n",
       "SECONDED (HEALTH AND LONG-TERM CARE)                      False        False  \n",
       "SECONDED (TRANSPORTATION)                                 False        False  \n",
       "ONTARIO POWER GENERATION                                  False         True  \n",
       "SECONDED (LABOUR)                                         False        False  \n",
       "SECONDED (TOURISM, CULTURE & SPORT)                       False        False  \n",
       "SECONDED (TRAINING, COLLEGES AND UNIVERSITIES)            False        False  \n",
       "SECONDED (CHILDREN AND YOUTH SERVICES)                    False        False  \n",
       "SECONDED (COMMUNITY AND SOCIAL SERVICES)                  False        False  "
      ]
     },
     "execution_count": 116,
     "metadata": {},
     "output_type": "execute_result"
    }
   ],
   "source": [
    "sectors_in_years.apply(lambda row: row>1000)"
   ]
  },
  {
   "cell_type": "code",
   "execution_count": null,
   "metadata": {
    "collapsed": true
   },
   "outputs": [],
   "source": []
  },
  {
   "cell_type": "code",
   "execution_count": null,
   "metadata": {
    "collapsed": true
   },
   "outputs": [],
   "source": []
  },
  {
   "cell_type": "code",
   "execution_count": null,
   "metadata": {
    "collapsed": true
   },
   "outputs": [],
   "source": []
  },
  {
   "cell_type": "code",
   "execution_count": null,
   "metadata": {
    "collapsed": true
   },
   "outputs": [],
   "source": []
  },
  {
   "cell_type": "code",
   "execution_count": null,
   "metadata": {
    "collapsed": true
   },
   "outputs": [],
   "source": []
  },
  {
   "cell_type": "code",
   "execution_count": null,
   "metadata": {
    "collapsed": true
   },
   "outputs": [],
   "source": []
  },
  {
   "cell_type": "code",
   "execution_count": null,
   "metadata": {
    "collapsed": true
   },
   "outputs": [],
   "source": []
  },
  {
   "cell_type": "code",
   "execution_count": null,
   "metadata": {
    "collapsed": true
   },
   "outputs": [],
   "source": []
  },
  {
   "cell_type": "code",
   "execution_count": null,
   "metadata": {
    "collapsed": true
   },
   "outputs": [],
   "source": []
  },
  {
   "cell_type": "code",
   "execution_count": null,
   "metadata": {
    "collapsed": true
   },
   "outputs": [],
   "source": []
  },
  {
   "cell_type": "code",
   "execution_count": null,
   "metadata": {
    "collapsed": true
   },
   "outputs": [],
   "source": []
  }
 ],
 "metadata": {
  "kernelspec": {
   "display_name": "Python [conda root]",
   "language": "python",
   "name": "conda-root-py"
  },
  "language_info": {
   "codemirror_mode": {
    "name": "ipython",
    "version": 3
   },
   "file_extension": ".py",
   "mimetype": "text/x-python",
   "name": "python",
   "nbconvert_exporter": "python",
   "pygments_lexer": "ipython3",
   "version": "3.6.2"
  }
 },
 "nbformat": 4,
 "nbformat_minor": 2
}
